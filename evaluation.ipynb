{
 "cells": [
  {
   "cell_type": "code",
   "execution_count": 2,
   "metadata": {},
   "outputs": [],
   "source": [
    "import json\n",
    "import pandas as pd"
   ]
  },
  {
   "cell_type": "code",
   "execution_count": 3,
   "metadata": {},
   "outputs": [],
   "source": [
    "with open('reports/performance.json') as f:\n",
    "    perf = json.load(f)"
   ]
  },
  {
   "cell_type": "code",
   "execution_count": 5,
   "metadata": {},
   "outputs": [
    {
     "name": "stdout",
     "output_type": "stream",
     "text": [
      "gpt-4o-mini+no+context+no+reasoning average perf under 10 runs\n",
      "accuracy     0.708537\n",
      "precision    0.750435\n",
      "recall       0.870175\n",
      "f1           0.805576\n",
      "dtype: float64\n",
      "gpt-4o-mini+no+context average perf under 10 runs\n",
      "accuracy     0.697642\n",
      "precision    0.697526\n",
      "recall       0.996427\n",
      "f1           0.820590\n",
      "dtype: float64\n",
      "gpt-4o-mini+no+reasoning average perf under 10 runs\n",
      "accuracy     0.762195\n",
      "precision    0.755109\n",
      "recall       0.973684\n",
      "f1           0.850570\n",
      "dtype: float64\n",
      "gpt-4o-mini+context+reasoning average perf under 10 runs\n",
      "accuracy     0.735080\n",
      "precision    0.729875\n",
      "recall       0.982456\n",
      "f1           0.837503\n",
      "dtype: float64\n"
     ]
    }
   ],
   "source": [
    "for setting, perf_logs in perf.items():\n",
    "    print(setting, \"average perf under 10 runs\")\n",
    "    print(pd.DataFrame(perf_logs).mean())"
   ]
  }
 ],
 "metadata": {
  "kernelspec": {
   "display_name": "abandabot-L22U2UfH-py3.11",
   "language": "python",
   "name": "python3"
  },
  "language_info": {
   "codemirror_mode": {
    "name": "ipython",
    "version": 3
   },
   "file_extension": ".py",
   "mimetype": "text/x-python",
   "name": "python",
   "nbconvert_exporter": "python",
   "pygments_lexer": "ipython3",
   "version": "3.11.4"
  }
 },
 "nbformat": 4,
 "nbformat_minor": 2
}
